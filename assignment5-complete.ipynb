{
 "cells": [
  {
   "cell_type": "code",
   "execution_count": 3,
   "id": "minus-population",
   "metadata": {},
   "outputs": [
    {
     "name": "stdout",
     "output_type": "stream",
     "text": [
      "(18, 24)\n",
      "the linkage is infinitesimally rigid!\n",
      "\n"
     ]
    }
   ],
   "source": [
    "import networkx as nx\n",
    "from linkages import *\n",
    "import numpy as np\n",
    "import openmesh as om\n",
    "import scipy\n",
    "\n",
    "def nullspace(A, eps=1e-12):\n",
    "    u, s, vh = np.linalg.svd(A)\n",
    "    padding = max(0,np.shape(A)[1]-np.shape(s)[0])\n",
    "    null_mask = np.concatenate(((s <= eps), np.ones((padding,),dtype=bool)),axis=0)\n",
    "    null_space = np.compress(null_mask, vh, axis=0)\n",
    "    return np.transpose(null_space)\n",
    "\n",
    "def nullspace_not_working(A, eps=1e-15):\n",
    "    u, s, vh = np.linalg.svd(A)\n",
    "    null_mask = (s <= eps)\n",
    "    null_space = np.compress(null_mask, vh, axis=0)\n",
    "    return np.transpose(null_space)\n",
    "\n",
    "def nullspace_doof(A, rcond=None):\n",
    "    u, s, vh = np.linalg.svd(A, full_matrices=True)\n",
    "    M, N = u.shape[0], vh.shape[1]\n",
    "    if rcond is None:\n",
    "        rcond = np.finfo(s.dtype).eps * max(M, N)\n",
    "    tol = np.amax(s) * rcond\n",
    "    num = np.sum(s > tol, dtype=int)\n",
    "    Q = vh[num:,:].T.conj()\n",
    "    return Q\n",
    "\n",
    "def graph_to_matrix(G):\n",
    "    rows = []\n",
    "    for edge in G.edges:\n",
    "        row = []\n",
    "        d = edge[0] - edge[1]\n",
    "        for vertex in G.nodes:\n",
    "            if vertex == edge[0]  : row.extend(d)\n",
    "            elif vertex == edge[1]: row.extend(-d)\n",
    "            else:                   row.extend([0 for _ in range(DIM)])\n",
    "        rows.append(row)\n",
    "    return np.matrix(rows, float)\n",
    "\n",
    "def set_pinning(pins, M: np.matrix):\n",
    "    N = nullspace(M)\n",
    "    if type(pins) is int: pins = [pins]\n",
    "\n",
    "    for p in pins:\n",
    "        for vector in N.A:\n",
    "            if vector.size == 0:\n",
    "                continue\n",
    "            for i in range(DIM):\n",
    "                if vector[DIM*(p-1) + i] != 0:\n",
    "                    vector.fill(0)\n",
    "                    break\n",
    "    return N\n",
    "\n",
    "# helper function to convert nullspace to a list of motions \n",
    "def getMotions(N):\n",
    "    if type(N) is np.matrix: N = nullspace(N)\n",
    "    return [[str(val) + \"*v\" + str(np.floor(i/DIM)+1) + (\"xyzwrüdiger\"[i%DIM]) for i,val in enumerate(vector) if np.abs(val) > 1e-15] for vector in N.A]\n",
    "\n",
    "#just a cute function to convert detected motions into a human readible string\n",
    "def motions_to_string(motions):\n",
    "    string = \"\"\n",
    "    for v in motions:\n",
    "        if len(v) !=0:\n",
    "            for val in v:\n",
    "                if val == v[0] and len(v)>1: word = \" depends on \"\n",
    "                elif val != v[len(v)-1]    : word = \", and \"\n",
    "                elif len(v) == 1           : word = \" is free\\n\"\n",
    "                else                       : word =\"\\n\"\n",
    "                string += val + word\n",
    "    return string\n",
    "\n",
    "def check_rigidity(M): return np.linalg.matrix_rank(M) == M.shape[1]- (DIM+1) * DIM/2\n",
    "\n",
    "def model_to_graph(mesh: om.PolyMesh) -> nx.Graph:\n",
    "    graph = nx.Graph()\n",
    "\n",
    "    points = mesh.points()\n",
    "    for edge in mesh.edge_vertex_indices():\n",
    "        graph.add_edge(Point(points[edge[0]]), Point(points[edge[1]]))\n",
    "\n",
    "    return graph    \n",
    "\n",
    "\n",
    "graph_cool = model_to_graph(om.read_polymesh(\"models/cube.stl\"))\n",
    "\n",
    "\n",
    "A = graph_to_matrix(graph_cool)\n",
    "print(A.shape)\n",
    "print (\"the linkage is infinitesimally rigid!\" if check_rigidity(A) else \"the linkage is infinitesimally flexible\")\n",
    "A = set_pinning(1,A)\n",
    "\n",
    "print(motions_to_string((getMotions(A))))\n",
    "\n"
   ]
  },
  {
   "cell_type": "markdown",
   "id": "prime-furniture",
   "metadata": {},
   "source": [
    "![Matrix](matrix)"
   ]
  },
  {
   "cell_type": "markdown",
   "metadata": {},
   "source": [
    "![Matrix](matrix)"
   ]
  },
  {
   "cell_type": "code",
   "execution_count": null,
   "id": "chubby-jordan",
   "metadata": {},
   "outputs": [],
   "source": []
  }
 ],
 "metadata": {
  "kernelspec": {
   "display_name": "Python 3",
   "language": "python",
   "name": "python3"
  },
  "language_info": {
   "codemirror_mode": {
    "name": "ipython",
    "version": 3
   },
   "file_extension": ".py",
   "mimetype": "text/x-python",
   "name": "python",
   "nbconvert_exporter": "python",
   "pygments_lexer": "ipython3",
   "version": "3.8.10"
  }
 },
 "nbformat": 4,
 "nbformat_minor": 5
}
