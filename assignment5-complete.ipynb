{
 "cells": [
  {
   "cell_type": "code",
   "execution_count": 1,
   "id": "minus-population",
   "metadata": {},
   "outputs": [
    {
     "name": "stdout",
     "output_type": "stream",
     "text": [
      "⎡-5  0   1   5  0   -1  0  0  0  0   0  0 ⎤\n",
      "⎢                                         ⎥\n",
      "⎢0   -5  1   0  0   0   0  0  0  0   5  -1⎥\n",
      "⎢                                         ⎥\n",
      "⎢-5  -5  -2  0  0   0   5  5  2  0   0  0 ⎥\n",
      "⎢                                         ⎥\n",
      "⎢0   0   0   0  -5  -3  0  5  3  0   0  0 ⎥\n",
      "⎢                                         ⎥\n",
      "⎢0   0   0   5  -5  0   0  0  0  -5  5  0 ⎥\n",
      "⎢                                         ⎥\n",
      "⎣0   0   0   0  0   0   5  0  3  -5  0  -3⎦\n",
      "the linkage is infinitesimally rigid!\n",
      "\n"
     ]
    }
   ],
   "source": [
    "import networkx as nx\n",
    "from sympy import Matrix, pprint, floor\n",
    "from linkages import *\n",
    "import openmesh as om\n",
    "\n",
    "def graph_to_matrix(G):\n",
    "    M = Matrix()\n",
    "    for edge in G.edges:\n",
    "        row = []\n",
    "        d = edge[0] - edge[1]\n",
    "        for vertex in G.nodes:\n",
    "            if vertex == edge[0]  : row.extend(d)\n",
    "            elif vertex == edge[1]: row.extend(-d)\n",
    "            else:                   row.extend([0 for _ in range(DIM)])\n",
    "        M=Matrix([M,row])\n",
    "    return M\n",
    "\n",
    "def set_pinning(pins, M: Matrix):\n",
    "    N = M.nullspace()\n",
    "    if type(pins) is int: pins = [pins]\n",
    "\n",
    "    for p in pins:\n",
    "        for vector in N:\n",
    "            for i in range(DIM):\n",
    "                if vector[DIM*(p-1) + i] != 0:\n",
    "                    vector.fill(0)\n",
    "                    break\n",
    "    return N\n",
    "\n",
    "# helper function to convert nullspace to a list of motions \n",
    "def getMotions(N):\n",
    "    if type(N) is Matrix: N = N.nullspace()\n",
    "    return [[str(val) + \"*v\" + str(floor(i/DIM)+1) + (\"xyzwrüdiger\"[i%DIM]) for i,val in enumerate(vector) if val != 0] for vector in N]\n",
    "\n",
    "#just a cute function to convert detected motions into a human readible string\n",
    "def motions_to_string(motions):\n",
    "    string = \"\"\n",
    "    for v in motions:\n",
    "        if len(v) !=0:\n",
    "            for val in v:\n",
    "                if val == v[0] and len(v)>1: word = \" depends on \"\n",
    "                elif val != v[len(v)-1]    : word = \", and \"\n",
    "                elif len(v) == 1           : word = \" is free\\n\"\n",
    "                else                       : word =\"\\n\"\n",
    "                string += val + word\n",
    "    return string\n",
    "\n",
    "def model_to_graph(mesh: om.PolyMesh) -> nx.Graph:\n",
    "    graph = nx.Graph()\n",
    "\n",
    "    points = mesh.points()\n",
    "    for edge in mesh.edge_vertex_indices():\n",
    "        graph.add_edge(Point(points[edge[0]]), Point(points[edge[1]]))\n",
    "\n",
    "    return graph    \n",
    "\n",
    "\n",
    "graph_cool = model_to_graph(om.read_polymesh(\"models/cube.stl\"))\n",
    "\n",
    "def check_rigidity(M): return M.rank() == M.cols- (DIM+1) * DIM/2\n",
    "graph = parallel_4_bar(True,True,True)\n",
    "\n",
    "A = graph_to_matrix(graph_cool)\n",
    "pprint(A)\n",
    "print (\"the linkage is infinitesimally rigid!\" if check_rigidity(A) else \"the linkage is infinitesimally flexible\")\n",
    "A = set_pinning(1,A)\n",
    "\n",
    "print(motions_to_string((getMotions(A))))\n",
    "\n"
   ]
  },
  {
   "cell_type": "code",
   "execution_count": null,
   "id": "prime-furniture",
   "metadata": {},
   "outputs": [],
   "source": []
  },
  {
   "cell_type": "code",
   "execution_count": null,
   "id": "chubby-jordan",
   "metadata": {},
   "outputs": [],
   "source": []
  }
 ],
 "metadata": {
  "kernelspec": {
   "display_name": "Python 3",
   "language": "python",
   "name": "python3"
  },
  "language_info": {
   "codemirror_mode": {
    "name": "ipython",
    "version": 3
   },
   "file_extension": ".py",
   "mimetype": "text/x-python",
   "name": "python",
   "nbconvert_exporter": "python",
   "pygments_lexer": "ipython3",
   "version": "3.8.10"
  }
 },
 "nbformat": 4,
 "nbformat_minor": 5
}
